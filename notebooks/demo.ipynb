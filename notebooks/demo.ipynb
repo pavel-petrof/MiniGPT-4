{
 "cells": [
  {
   "cell_type": "code",
   "execution_count": null,
   "id": "85b5a0dd-310c-4c46-b8a1-b90627c3bd22",
   "metadata": {},
   "outputs": [],
   "source": [
    "import os\n",
    "os.chdir(\"..\")\n",
    "\n",
    "import pandas as pd\n",
    "import numpy as np\n",
    "\n",
    "pd.set_option('display.max_colwidth', 2000)\n",
    "pd.options.display.max_rows = 2000\n",
    "pd.options.display.max_columns = 200\n",
    "np.set_printoptions(linewidth=500)\n",
    "pd.set_option(\"max_colwidth\", 400)"
   ]
  },
  {
   "cell_type": "code",
   "execution_count": null,
   "id": "f372f0d8-2c86-4007-9d3e-3b175796d173",
   "metadata": {},
   "outputs": [],
   "source": [
    "from PIL import Image\n",
    "def load_image(image_path: str):\n",
    "    return Image.open(image_path).convert('RGB')"
   ]
  },
  {
   "cell_type": "code",
   "execution_count": null,
   "id": "00b6c198-7b94-4e01-869a-8cf0b47f2a66",
   "metadata": {},
   "outputs": [],
   "source": [
    "from minigpt4.conversation.wrapper import ChatWrapper"
   ]
  },
  {
   "cell_type": "code",
   "execution_count": null,
   "id": "37772cb0-719d-4131-ab02-a875d7e251b2",
   "metadata": {},
   "outputs": [],
   "source": [
    "chat = ChatWrapper()"
   ]
  },
  {
   "cell_type": "code",
   "execution_count": null,
   "id": "543e2e66-1167-4878-b423-7c823da69644",
   "metadata": {},
   "outputs": [],
   "source": []
  },
  {
   "cell_type": "code",
   "execution_count": null,
   "id": "96c4da3f-b396-4565-9108-a1d5f076b6f1",
   "metadata": {},
   "outputs": [],
   "source": [
    "img = load_image(\"images/ebay3.jpeg\")\n",
    "img.resize(tuple((np.array(img.size) / 2).astype(int)))"
   ]
  },
  {
   "cell_type": "code",
   "execution_count": null,
   "id": "01bf7146-e473-4f96-bf31-dfe1026155d1",
   "metadata": {},
   "outputs": [],
   "source": [
    "chat.ask_about_image(\n",
    "    img,\n",
    "    \"I'd like to sell this product on eBay. Generate a short descriptive title.\",\n",
    ")"
   ]
  },
  {
   "cell_type": "code",
   "execution_count": null,
   "id": "850c468c-5465-4825-8c8d-796f4abe192a",
   "metadata": {},
   "outputs": [],
   "source": [
    "chat.follow_up(\n",
    "    \"Extract the following attributes: color, material, style.\"\n",
    ")"
   ]
  },
  {
   "cell_type": "code",
   "execution_count": null,
   "id": "29805543-da0b-4c0b-bbdf-8bd4046cab4a",
   "metadata": {},
   "outputs": [],
   "source": []
  },
  {
   "cell_type": "code",
   "execution_count": null,
   "id": "925ca88a-d43e-4d19-bba4-894d88b87c19",
   "metadata": {},
   "outputs": [],
   "source": []
  },
  {
   "cell_type": "code",
   "execution_count": null,
   "id": "ae61faec-1eac-41e5-aea4-b6dec1eef240",
   "metadata": {},
   "outputs": [],
   "source": [
    "img = load_image(\"images/anteater.jpeg\")\n",
    "img.resize(tuple((np.array(img.size) / 2).astype(int)))"
   ]
  },
  {
   "cell_type": "code",
   "execution_count": null,
   "id": "4b02d1e7-ab09-4e63-ac67-1308200c5bd3",
   "metadata": {},
   "outputs": [],
   "source": [
    "chat.ask_about_image(\n",
    "    img,\n",
    "    \"I'd like to sell this product on eBay. Generate a short descriptive title.\",\n",
    ")"
   ]
  },
  {
   "cell_type": "code",
   "execution_count": null,
   "id": "85204a1c-d5bb-4b42-9a25-6b825e2f5675",
   "metadata": {},
   "outputs": [],
   "source": [
    "chat.follow_up(\n",
    "    \"Extract the following attributes: color, material, product type, animal type.\"\n",
    ")"
   ]
  },
  {
   "cell_type": "code",
   "execution_count": null,
   "id": "a266da55-c663-4489-9ebf-89284a4a025f",
   "metadata": {},
   "outputs": [],
   "source": [
    "chat.follow_up(\n",
    "    \"It's not an armadillo, it's an anteater.\"\n",
    ")"
   ]
  },
  {
   "cell_type": "code",
   "execution_count": null,
   "id": "25b5b012-b39a-411c-8b16-75af26110ccf",
   "metadata": {},
   "outputs": [],
   "source": [
    "chat.follow_up(\n",
    "    \"Now, generate a better title.\"\n",
    ")"
   ]
  },
  {
   "cell_type": "code",
   "execution_count": null,
   "id": "5be23e4d-181d-4646-8064-c0a8552bad2f",
   "metadata": {},
   "outputs": [],
   "source": [
    "chat.follow_up(\n",
    "    \"Extract the following attributes: color, material, product type.\"\n",
    ")"
   ]
  },
  {
   "cell_type": "code",
   "execution_count": null,
   "id": "112c7958-6718-4d89-b95d-c810262c9149",
   "metadata": {},
   "outputs": [],
   "source": []
  },
  {
   "cell_type": "code",
   "execution_count": null,
   "id": "367a9a58-c5bf-4d17-a1ab-5e8d98a4e073",
   "metadata": {},
   "outputs": [],
   "source": []
  },
  {
   "cell_type": "code",
   "execution_count": null,
   "id": "0e791edc-f6cd-4396-a2a1-3e78b6340da3",
   "metadata": {},
   "outputs": [],
   "source": []
  },
  {
   "cell_type": "code",
   "execution_count": null,
   "id": "d46dfcc4-12a2-45bb-a043-4ead60bd3212",
   "metadata": {},
   "outputs": [],
   "source": []
  },
  {
   "cell_type": "code",
   "execution_count": null,
   "id": "2cf61f4c-5878-4b9b-b5aa-d2c075418227",
   "metadata": {},
   "outputs": [],
   "source": [
    "chat.follow_up(\n",
    "    \"Extract the following attributes: brand, color, material, theme, product type, occasion, gender, season, style.\",\n",
    ")"
   ]
  },
  {
   "cell_type": "code",
   "execution_count": null,
   "id": "8ab783d0-2b43-4f4e-a7a0-cc9a011cbd49",
   "metadata": {},
   "outputs": [],
   "source": []
  },
  {
   "cell_type": "code",
   "execution_count": null,
   "id": "b861d904-82ba-427e-aafd-8b6374a8771a",
   "metadata": {},
   "outputs": [],
   "source": []
  },
  {
   "cell_type": "code",
   "execution_count": null,
   "id": "23da46ad-7008-4036-ab34-e4a8d4f74dfa",
   "metadata": {},
   "outputs": [],
   "source": []
  },
  {
   "cell_type": "code",
   "execution_count": null,
   "id": "e54504bb-3d50-498e-a8aa-237d39e9d98c",
   "metadata": {},
   "outputs": [],
   "source": [
    "# chat.follow_up(\n",
    "#     \"Extract the following attributes: brand, color, material, theme, product type, product line, character, franchise, year.\",\n",
    "# )"
   ]
  },
  {
   "cell_type": "code",
   "execution_count": null,
   "id": "e481d242-bcaa-4089-9032-09625ff4b68d",
   "metadata": {},
   "outputs": [],
   "source": []
  },
  {
   "cell_type": "code",
   "execution_count": null,
   "id": "6fab7bcd-f989-4666-9505-216c97108ee0",
   "metadata": {},
   "outputs": [],
   "source": []
  },
  {
   "cell_type": "code",
   "execution_count": null,
   "id": "116479db-db6e-4561-8db4-8aca9459d445",
   "metadata": {},
   "outputs": [],
   "source": []
  },
  {
   "cell_type": "code",
   "execution_count": null,
   "id": "314d5064-6b3b-41ea-94a0-92aab9416260",
   "metadata": {},
   "outputs": [],
   "source": [
    "# chat.follow_up(\n",
    "#     \"In which category should I list it?\",\n",
    "# )"
   ]
  },
  {
   "cell_type": "code",
   "execution_count": null,
   "id": "d3f2d3e4-82be-448e-8c90-3aa660e18e00",
   "metadata": {},
   "outputs": [],
   "source": [
    "chat.follow_up(\n",
    "    \"How should I price it?\",\n",
    ")"
   ]
  },
  {
   "cell_type": "code",
   "execution_count": null,
   "id": "6341e26c-bccd-4ad4-a17a-7d962548bb28",
   "metadata": {},
   "outputs": [],
   "source": []
  },
  {
   "cell_type": "code",
   "execution_count": null,
   "id": "abcca5ad-d44c-47e0-9557-d616893cc3d3",
   "metadata": {},
   "outputs": [],
   "source": []
  },
  {
   "cell_type": "code",
   "execution_count": null,
   "id": "7240639b-7572-4127-bded-c70daf5c8ce7",
   "metadata": {},
   "outputs": [],
   "source": []
  },
  {
   "cell_type": "code",
   "execution_count": null,
   "id": "194b3dec-67b7-4609-8a4e-81042fd96830",
   "metadata": {},
   "outputs": [],
   "source": []
  },
  {
   "cell_type": "code",
   "execution_count": null,
   "id": "779c42cb-8608-465c-b412-8c4a58074472",
   "metadata": {},
   "outputs": [],
   "source": []
  }
 ],
 "metadata": {
  "kernelspec": {
   "display_name": "minigpt4",
   "language": "python",
   "name": "minigpt4"
  },
  "language_info": {
   "codemirror_mode": {
    "name": "ipython",
    "version": 3
   },
   "file_extension": ".py",
   "mimetype": "text/x-python",
   "name": "python",
   "nbconvert_exporter": "python",
   "pygments_lexer": "ipython3",
   "version": "3.9.16"
  }
 },
 "nbformat": 4,
 "nbformat_minor": 5
}
